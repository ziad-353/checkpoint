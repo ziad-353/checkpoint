{
  "nbformat": 4,
  "nbformat_minor": 0,
  "metadata": {
    "colab": {
      "name": "Checkpoint5.ipynb",
      "provenance": []
    },
    "kernelspec": {
      "name": "python3",
      "display_name": "Python 3"
    },
    "language_info": {
      "name": "python"
    }
  },
  "cells": [
    {
      "cell_type": "code",
      "metadata": {
        "id": "B_XetJS0bOQV",
        "colab": {
          "base_uri": "https://localhost:8080/"
        },
        "outputId": "541da074-7fa3-471f-99c2-6717804f8044"
      },
      "source": [
        "class Point3d:\n",
        "  def __init__(self,x,y,z):\n",
        "    self.x=x\n",
        "    self.y=y\n",
        "    self.z=z\n",
        "  def methode(self,x,y,z):\n",
        "    return(self.x,self.y,self.z)\n",
        "my_point= Point3d(1,2,3)\n",
        "print(my_point.methode(1,2,3))\n",
        "    \n",
        "\n"
      ],
      "execution_count": null,
      "outputs": [
        {
          "output_type": "stream",
          "text": [
            "(1, 2, 3)\n"
          ],
          "name": "stdout"
        }
      ]
    },
    {
      "cell_type": "code",
      "metadata": {
        "colab": {
          "base_uri": "https://localhost:8080/"
        },
        "id": "M1igVo3gCZi0",
        "outputId": "cbdd763a-4c32-4fc3-d666-de5396de5cf9"
      },
      "source": [
        "class rectangle :\n",
        "  def __init__(self,length,width):\n",
        "    self.length=length\n",
        "    self.width=width\n",
        "  def area(self):\n",
        "    return self.length*self.width\n",
        "  def perimeter (self):\n",
        "    return (self.length+self.width)*2\n",
        "my_rectangle=rectangle(4,3)\n",
        "print(my_rectangle.area())\n",
        "print(my_rectangle.perimeter())"
      ],
      "execution_count": null,
      "outputs": [
        {
          "output_type": "stream",
          "text": [
            "12\n",
            "14\n"
          ],
          "name": "stdout"
        }
      ]
    },
    {
      "cell_type": "code",
      "metadata": {
        "id": "gFqUsC-oKhfG",
        "colab": {
          "base_uri": "https://localhost:8080/"
        },
        "outputId": "3f0c2125-4c6e-40c4-b643-2c69976adf2a"
      },
      "source": [
        " \n",
        "from math import pi\n",
        " class circle :\n",
        "  def __init__(self,radius):\n",
        "    self.radius=radius\n",
        "  def area (self,radius):\n",
        "    return self.radius**2*pi\n",
        "  def perimeter (self,radius):\n",
        "    self.radius*2*pi\n",
        "  def isinside (self):\n",
        "    x=int(input(\"enter x here : \"))\n",
        "    y=int(input(\"enter y here : \")) \n",
        "    s=int(input(\"enter s here : \"))\n",
        "    m=int(input(\"enter m here : \")) \n",
        "    a=x-s\n",
        "    j=y-m\n",
        "    p=pow(a,2)+ pow(j,2)\n",
        "    if p==self.radius**2:\n",
        "      print(\"the point is inside the cercle\")\n",
        "    else:\n",
        "      print(\"the point is not inside the cercle\")\n",
        "      return p \n",
        "r=circle(5)\n",
        "print(r.isinside())\n",
        "  "
      ],
      "execution_count": null,
      "outputs": [
        {
          "output_type": "stream",
          "text": [
            "enter x here : 5\n",
            "enter y here : 6\n",
            "enter s here : 3\n",
            "enter m here : 4\n",
            "the point is not inside the cercle\n",
            "8\n"
          ],
          "name": "stdout"
        }
      ]
    },
    {
      "cell_type": "code",
      "metadata": {
        "id": "m1N1fnwJsryI",
        "colab": {
          "base_uri": "https://localhost:8080/"
        },
        "outputId": "9ba54ef5-1876-44aa-91a8-dcabfcc0cf80"
      },
      "source": [
        "x=int(input(\"withdraw :\"))\n",
        "y=int(input(\"deposit:\"))\n",
        "class bank:\n",
        "  def __init__(self,balance):\n",
        "    self.balance=balance\n",
        "  def deposit (self,a):\n",
        "    return self.balance+a\n",
        "  def withdraw (self,k):\n",
        "    return self.balance-k\n",
        "a=bank(500)\n",
        "print(a.deposit(y))\n",
        "print(a.withdraw(x))\n",
        "\n",
        "  \n",
        "\n",
        "     "
      ],
      "execution_count": 26,
      "outputs": [
        {
          "output_type": "stream",
          "text": [
            "withdraw :20\n",
            "deposit:50\n",
            "550\n",
            "480\n"
          ],
          "name": "stdout"
        }
      ]
    }
  ]
}