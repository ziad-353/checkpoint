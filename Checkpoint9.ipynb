{
  "nbformat": 4,
  "nbformat_minor": 0,
  "metadata": {
    "colab": {
      "name": "Checkpoint9.ipynb",
      "provenance": []
    },
    "kernelspec": {
      "name": "python3",
      "display_name": "Python 3"
    },
    "language_info": {
      "name": "python"
    }
  },
  "cells": [
    {
      "cell_type": "code",
      "metadata": {
        "id": "VSzliXethK25",
        "colab": {
          "base_uri": "https://localhost:8080/"
        },
        "outputId": "23b6f010-258b-4df6-eba8-35944a5ab820"
      },
      "source": [
        "def binary_search (sequance,item):\n",
        "  begin_index=0\n",
        "  end_index=len(sequance)-1\n",
        "\n",
        "  while begin_index<=end_index:\n",
        "    midpoint= begin_index + (end_index - begin_index) // 2\n",
        "    midpoint_value=sequance[midpoint]\n",
        "    if midpoint_value==item:\n",
        "      return midpoint\n",
        "    elif midpoint_value>item:\n",
        "      end_index = midpoint-1\n",
        "    else :\n",
        "      begin_index=midpoint+1\n",
        "  return False\n",
        "\n",
        "sequance_a=[3,8,12,23,36,41,55,58,63,78]\n",
        "item_a=63\n",
        "print(\"if the number exist in the list you will find his inex right in the following line,otherwise you will get False:\")\n",
        "print(binary_search(sequance_a,item_a))"
      ],
      "execution_count": 15,
      "outputs": [
        {
          "output_type": "stream",
          "text": [
            "if the number exist in the list you will find his inex right in the following line,otherwise you will get False:\n",
            "8\n"
          ],
          "name": "stdout"
        }
      ]
    },
    {
      "cell_type": "code",
      "metadata": {
        "colab": {
          "base_uri": "https://localhost:8080/"
        },
        "id": "-xom-pwvrA1Z",
        "outputId": "da7a2e3b-10e7-4018-b930-1ef4e7713fec"
      },
      "source": [
        "a=int(input(\"enter a : \"))\n",
        "b=int(input(\"enter b:  \"))\n",
        "c=a**b\n",
        "print(\"value of a to the power b  :\",c)"
      ],
      "execution_count": 18,
      "outputs": [
        {
          "output_type": "stream",
          "text": [
            "enter a : 2\n",
            "enter b:  3\n",
            "value of a to the power b  : 8\n"
          ],
          "name": "stdout"
        }
      ]
    },
    {
      "cell_type": "code",
      "metadata": {
        "colab": {
          "base_uri": "https://localhost:8080/"
        },
        "id": "b0BWYHgGwQht",
        "outputId": "1fe8bcfa-a0f4-4283-aa1a-0da2ba5bd1a9"
      },
      "source": [
        "def bubble_sort (nlist):\n",
        "  for passnum in range (len(nlist)-1,0,-1):\n",
        "    for i in range (passnum):\n",
        "      if nlist[i]>nlist[i+1]:\n",
        "        temp=nlist[i]\n",
        "        nlist[i]=nlist[i+1]\n",
        "        nlist[i+1]=temp\n",
        "  return nlist\n",
        "\n",
        "nlist_a=[29,13,22,37,52,49,46,71,56]\n",
        "print(bubble_sort(nlist_a))\n"
      ],
      "execution_count": 1,
      "outputs": [
        {
          "output_type": "stream",
          "text": [
            "[13, 22, 29, 37, 46, 49, 52, 56, 71]\n"
          ],
          "name": "stdout"
        }
      ]
    },
    {
      "cell_type": "code",
      "metadata": {
        "colab": {
          "base_uri": "https://localhost:8080/"
        },
        "id": "fGcTlSzZ2mak",
        "outputId": "f759298f-6098-48bb-83f9-b3d92296d5f8"
      },
      "source": [
        "def mergeSort(nlist):\n",
        "    if len(nlist) > 1:\n",
        "        mid = len(nlist) // 2\n",
        "        left = nlist[:mid]\n",
        "        right = nlist[mid:]\n",
        "\n",
        "        # Recursive call on each half\n",
        "        mergeSort(left)\n",
        "        mergeSort(right)\n",
        "\n",
        "        # Two iterators for traversing the two halves\n",
        "        i = 0\n",
        "        j = 0\n",
        "        \n",
        "        # Iterator for the main list\n",
        "        k = 0\n",
        "        \n",
        "        while i < len(left) and j < len(right):\n",
        "            if left[i] < right[j]:\n",
        "              # The value from the left half has been used\n",
        "              nlist[k] = left[i]\n",
        "              # Move the iterator forward\n",
        "              i += 1\n",
        "            else:\n",
        "                nlist[k] = right[j]\n",
        "                j += 1\n",
        "            # Move to the next slot\n",
        "            k += 1\n",
        "\n",
        "        # For all the remaining values\n",
        "        while i < len(left):\n",
        "            nlist[k] = left[i]\n",
        "            i += 1\n",
        "            k += 1\n",
        "\n",
        "        while j < len(right):\n",
        "            nlist[k]=right[j]\n",
        "            j += 1\n",
        "            k += 1\n",
        "\n",
        "nlist_b=[29,13,22,37,52,49,46,71,56]\n",
        "mergeSort(nlist_b)\n",
        "print(nlist_b)"
      ],
      "execution_count": 4,
      "outputs": [
        {
          "output_type": "stream",
          "text": [
            "[13, 22, 29, 37, 46, 49, 52, 56, 71]\n"
          ],
          "name": "stdout"
        }
      ]
    },
    {
      "cell_type": "code",
      "metadata": {
        "colab": {
          "base_uri": "https://localhost:8080/"
        },
        "id": "0YHgVZk64AgI",
        "outputId": "b199f9b9-7002-4aac-cc01-d774b0521acd"
      },
      "source": [
        "def partition(array, start, end):\n",
        "    pivot = array[start]\n",
        "    low = start + 1\n",
        "    high = end\n",
        "    while True:\n",
        "        while low <= high and array[high] >= pivot:\n",
        "            high = high - 1\n",
        "\n",
        "        # Opposite process of the one above\n",
        "        while low <= high and array[low] <= pivot:\n",
        "            low = low + 1\n",
        "\n",
        "        # We either found a value for both high and low that is out of order\n",
        "        # or low is higher than high, in which case we exit the loop\n",
        "        if low <= high:\n",
        "            array[low], array[high] = array[high], array[low]\n",
        "            # The loop continues\n",
        "        else:\n",
        "            # We exit out of the loop\n",
        "            break\n",
        "\n",
        "    array[start], array[high] = array[high], array[start]\n",
        "\n",
        "    return high\n",
        "\n",
        "def quick_sort(array, start, end):\n",
        "    if start >= end:\n",
        "        return\n",
        "    p = partition(array, start, end)\n",
        "    quick_sort(array, start, p-1)\n",
        "    quick_sort(array, p+1, end)\n",
        "array1=[29,13,22,37,52,49,46,71,56]\n",
        "quick_sort(array1, 0, len(array1) - 1)\n",
        "print(array1)\n"
      ],
      "execution_count": 6,
      "outputs": [
        {
          "output_type": "stream",
          "text": [
            "[13, 22, 29, 37, 46, 49, 52, 56, 71]\n"
          ],
          "name": "stdout"
        }
      ]
    }
  ]
}