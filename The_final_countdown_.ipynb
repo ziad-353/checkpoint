{
  "nbformat": 4,
  "nbformat_minor": 0,
  "metadata": {
    "colab": {
      "name": "The final countdown .ipynb",
      "provenance": []
    },
    "kernelspec": {
      "name": "python3",
      "display_name": "Python 3"
    },
    "language_info": {
      "name": "python"
    }
  },
  "cells": [
    {
      "cell_type": "code",
      "metadata": {
        "id": "3C65VprNmjSx"
      },
      "source": [
        "import time \n",
        "t=int(input(\"enter the countdown time in seconds : \"))\n",
        "def countdown (t):\n",
        "  while t>0:\n",
        "    divmod(t,60)\n",
        "    timeformat=divmod(t,60)\n",
        "    print(timeformat[0],\":\",timeformat[1],end='\\r')\n",
        "    time.sleep(1)\n",
        "    t-=1\n",
        "  print(\"Fire in the hole\")\n",
        "  return t \n",
        "m=countdown(t)\n",
        "print(m)\n",
        "\n",
        "\n",
        "    \n"
      ],
      "execution_count": null,
      "outputs": []
    }
  ]
}