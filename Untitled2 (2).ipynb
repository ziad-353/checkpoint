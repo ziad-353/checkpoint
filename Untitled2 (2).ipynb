{
  "nbformat": 4,
  "nbformat_minor": 0,
  "metadata": {
    "colab": {
      "name": "Untitled2.ipynb",
      "provenance": []
    },
    "kernelspec": {
      "name": "python3",
      "display_name": "Python 3"
    },
    "language_info": {
      "name": "python"
    }
  },
  "cells": [
    {
      "cell_type": "code",
      "metadata": {
        "colab": {
          "base_uri": "https://localhost:8080/"
        },
        "id": "4dXDbkJerw9P",
        "outputId": "dd5df824-2ef7-4477-bf2e-cf88bff9587c"
      },
      "source": [
        "o=input=\"your first name\"\n",
        "p=input=\"your last name\"\n",
        "r=\" \"\n",
        "print(p+r+o)"
      ],
      "execution_count": null,
      "outputs": [
        {
          "output_type": "stream",
          "text": [
            "your last name your first name\n"
          ],
          "name": "stdout"
        }
      ]
    },
    {
      "cell_type": "code",
      "metadata": {
        "colab": {
          "base_uri": "https://localhost:8080/"
        },
        "id": "ur7kq0TMKRga",
        "outputId": "a0b725a6-459b-49ac-e7cf-a7d6dea5e548"
      },
      "source": [
        "n=int(5)\n",
        "nn=int(55)\n",
        "nnn=int(555)\n",
        "print(n+nn+nnn)"
      ],
      "execution_count": null,
      "outputs": [
        {
          "output_type": "stream",
          "text": [
            "615\n"
          ],
          "name": "stdout"
        }
      ]
    },
    {
      "cell_type": "code",
      "metadata": {
        "colab": {
          "base_uri": "https://localhost:8080/"
        },
        "id": "g2msFgQ0ui7Z",
        "outputId": "32eadebf-0cd9-44dd-e3f8-1f7166091e04"
      },
      "source": [
        "u= \"choose a number and write it below\"\n",
        "print(u)\n",
        "number =int(input(\"enter a number here\"))\n",
        "print(number)\n",
        "if  number%2==0 :\n",
        "  print(\"this is an even number\")\n",
        "else :\n",
        "  print(\"this is an odd  number\")"
      ],
      "execution_count": 2,
      "outputs": [
        {
          "output_type": "stream",
          "text": [
            "choose a number and write it below\n",
            "enter a number here13\n",
            "13\n",
            "this is an odd  number\n"
          ],
          "name": "stdout"
        }
      ]
    },
    {
      "cell_type": "code",
      "metadata": {
        "colab": {
          "base_uri": "https://localhost:8080/"
        },
        "id": "AezuIWMJQX19",
        "outputId": "f6946649-44ba-4b9b-9ced-50b0036b6f37"
      },
      "source": [
        "for a in range (2000,3201) :\n",
        "  if  a % 7 == 0 and  a % 5>0 :\n",
        "    print(a,end = ' ')\n"
      ],
      "execution_count": 6,
      "outputs": [
        {
          "output_type": "stream",
          "text": [
            "2002 2009 2016 2023 2037 2044 2051 2058 2072 2079 2086 2093 2107 2114 2121 2128 2142 2149 2156 2163 2177 2184 2191 2198 2212 2219 2226 2233 2247 2254 2261 2268 2282 2289 2296 2303 2317 2324 2331 2338 2352 2359 2366 2373 2387 2394 2401 2408 2422 2429 2436 2443 2457 2464 2471 2478 2492 2499 2506 2513 2527 2534 2541 2548 2562 2569 2576 2583 2597 2604 2611 2618 2632 2639 2646 2653 2667 2674 2681 2688 2702 2709 2716 2723 2737 2744 2751 2758 2772 2779 2786 2793 2807 2814 2821 2828 2842 2849 2856 2863 2877 2884 2891 2898 2912 2919 2926 2933 2947 2954 2961 2968 2982 2989 2996 3003 3017 3024 3031 3038 3052 3059 3066 3073 3087 3094 3101 3108 3122 3129 3136 3143 3157 3164 3171 3178 3192 3199 "
          ],
          "name": "stdout"
        }
      ]
    },
    {
      "cell_type": "code",
      "metadata": {
        "colab": {
          "base_uri": "https://localhost:8080/"
        },
        "id": "5ZT_TSoyGXBj",
        "outputId": "169c305a-70aa-431c-cfe7-789d6a586bb8"
      },
      "source": [
        "number=int(input(\"enter a number\"))\n",
        "print(number)\n",
        "k = 1\n",
        "for i in range(1,number+1):\n",
        "  k = k*i    \n",
        "print(k,end = \" \")\n",
        "\n",
        "  \n",
        "   \n",
        "   \n",
        "   "
      ],
      "execution_count": 37,
      "outputs": [
        {
          "output_type": "stream",
          "text": [
            "enter a number8\n",
            "8\n",
            "40320 "
          ],
          "name": "stdout"
        }
      ]
    },
    {
      "cell_type": "code",
      "metadata": {
        "colab": {
          "base_uri": "https://localhost:8080/"
        },
        "id": "ymDpUdM9NK-3",
        "outputId": "0d7e9619-0dea-4ce4-ee87-153cde462458"
      },
      "source": [
        "a=str(input(\"write something here \"))\n",
        "print(a)\n",
        "k = \"\"\n",
        "b= len(a)\n",
        "for i in range (b) :\n",
        "  if i % 2 ==0:\n",
        "    k=k+a[i]\n",
        "print(k)\n",
        "\n",
        "  \n"
      ],
      "execution_count": 61,
      "outputs": [
        {
          "output_type": "stream",
          "text": [
            "write something here yassine\n",
            "yassine\n",
            "ysie\n"
          ],
          "name": "stdout"
        }
      ]
    },
    {
      "cell_type": "code",
      "metadata": {
        "colab": {
          "base_uri": "https://localhost:8080/"
        },
        "id": "fPVj--gGXUit",
        "outputId": "ad8562a6-ac18-4f71-bd88-618bf992ca6d"
      },
      "source": [
        "price=int(input(\"write a price here\"))*\n",
        "print(price)\n",
        "if price>500 :\n",
        "  print(price*0.5)\n",
        "elif 199<price<500 :\n",
        "  print(price*0.3)\n",
        "else :\n",
        "  print(price*0.9)"
      ],
      "execution_count": 71,
      "outputs": [
        {
          "output_type": "stream",
          "text": [
            "write a price here800\n",
            "800\n",
            "400.0\n"
          ],
          "name": "stdout"
        }
      ]
    }
  ]
}