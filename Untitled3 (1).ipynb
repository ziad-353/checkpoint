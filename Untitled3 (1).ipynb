{
  "nbformat": 4,
  "nbformat_minor": 0,
  "metadata": {
    "colab": {
      "name": "Untitled3.ipynb",
      "provenance": []
    },
    "kernelspec": {
      "name": "python3",
      "display_name": "Python 3"
    },
    "language_info": {
      "name": "python"
    }
  },
  "cells": [
    {
      "cell_type": "code",
      "metadata": {
        "colab": {
          "base_uri": "https://localhost:8080/"
        },
        "id": "RkBPEdA_Tsys",
        "outputId": "c0a0f596-8f66-445d-a2de-51b245fb8360"
      },
      "source": [
        "a=int(input(\"choissisez la taille \"))\n",
        "l=[]\n",
        "g=1\n",
        "for i in range (a):\n",
        "  b=int(input(\"donnez un entier\"))\n",
        "  l.append(b)\n",
        "for i in range (a):\n",
        "  g=g*l[i]\n",
        "print(g)\n",
        "\n",
        "\n",
        "  "
      ],
      "execution_count": null,
      "outputs": [
        {
          "output_type": "stream",
          "text": [
            "choissisez la taille 2\n",
            "donnez un entier9\n",
            "donnez un entier10\n",
            "90\n"
          ],
          "name": "stdout"
        }
      ]
    },
    {
      "cell_type": "code",
      "metadata": {
        "colab": {
          "base_uri": "https://localhost:8080/"
        },
        "id": "sI1dElxfeQfA",
        "outputId": "9f4f6d24-80f2-41bd-db3e-391b010495fa"
      },
      "source": [
        "def test(a) :\n",
        "  return a[1]\n",
        "list_1=[(2, 5), (1, 2), (4, 4), (2, 3), (2, 1)]\n",
        "list_1.sort(key=test)\n",
        "print(list_1)"
      ],
      "execution_count": null,
      "outputs": [
        {
          "output_type": "stream",
          "text": [
            "[(2, 1), (1, 2), (2, 3), (4, 4), (2, 5)]\n"
          ],
          "name": "stdout"
        }
      ]
    },
    {
      "cell_type": "code",
      "metadata": {
        "colab": {
          "base_uri": "https://localhost:8080/"
        },
        "id": "33KzD_5leRKA",
        "outputId": "4944bdf3-5f8d-430d-e44f-73eb533588f3"
      },
      "source": [
        "d1 = {'a': 100, 'b': 200, 'c':300}\n",
        "d2 = {'a': 300, 'b': 200, 'd':400}\n",
        "total_a=d1['a']+d2['a']\n",
        "total_b=d1['b']+d2['b']\n",
        "d3={'a':total_a,'b':total_b}\n",
        "d2.update(d3)\n",
        "d1.update(d2)\n",
        "\n",
        "print(d1)\n",
        "\n"
      ],
      "execution_count": null,
      "outputs": [
        {
          "output_type": "stream",
          "text": [
            "{'a': 400, 'b': 400, 'c': 300, 'd': 400}\n"
          ],
          "name": "stdout"
        }
      ]
    },
    {
      "cell_type": "code",
      "metadata": {
        "colab": {
          "base_uri": "https://localhost:8080/"
        },
        "id": "ohSNp0SV3wbT",
        "outputId": "d08f91dd-21cc-4b8c-823f-988b03277aa2"
      },
      "source": [
        "n=int(input(\"choose a number \"))\n",
        "print(n)\n",
        "d={}\n",
        "g={}\n",
        "for i in range (1,n+1):\n",
        "  d= {i:i*i,}\n",
        "  g.update(d)\n",
        "print(g)\n",
        "\n",
        "\n",
        "\n"
      ],
      "execution_count": null,
      "outputs": [
        {
          "output_type": "stream",
          "text": [
            "choose a number 3\n",
            "3\n",
            "{1: 1, 2: 4, 3: 9}\n"
          ],
          "name": "stdout"
        }
      ]
    },
    {
      "cell_type": "code",
      "metadata": {
        "id": "uMCUfU3E75aK",
        "colab": {
          "base_uri": "https://localhost:8080/"
        },
        "outputId": "9fc70b26-4b04-47a1-eeae-80d6c1ef2dce"
      },
      "source": [
        "def test (a):\n",
        "  return a [1]\n",
        "list_1=[('item1', '12.20'), ('item2', '15.10'), ('item3', '24.5')]\n",
        "list_1.sort(key=test,reverse=True)\n",
        "print(list_1)\n",
        "\n",
        "\n"
      ],
      "execution_count": 2,
      "outputs": [
        {
          "output_type": "stream",
          "text": [
            "[('item3', '24.5'), ('item2', '15.10'), ('item1', '12.20')]\n"
          ],
          "name": "stdout"
        }
      ]
    }
  ]
}