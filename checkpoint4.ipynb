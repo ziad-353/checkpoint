{
  "nbformat": 4,
  "nbformat_minor": 0,
  "metadata": {
    "colab": {
      "name": "checkpoint4.ipynb",
      "provenance": []
    },
    "kernelspec": {
      "name": "python3",
      "display_name": "Python 3"
    },
    "language_info": {
      "name": "python"
    }
  },
  "cells": [
    {
      "cell_type": "code",
      "metadata": {
        "colab": {
          "base_uri": "https://localhost:8080/"
        },
        "id": "jKjxBWIzo20U",
        "outputId": "9f6cad0c-aec8-461d-e75f-59dd45e00ae6"
      },
      "source": [
        "n1=int(input(\"enter a number\"))\n",
        "n2=int(input(\"enter a number\"))\n",
        "n3=int(input(\"enter a number\"))\n",
        "n=[n1,n2,n3]\n",
        "def max(n):\n",
        "    biggest_item = n[0]\n",
        "    for item in n:\n",
        "        if item > biggest_item:\n",
        "            biggest_item = item\n",
        "    return biggest_item\n",
        "print(n1)\n",
        "print(n2)\n",
        "print(n3)\n",
        "x=max(n)\n",
        "print(\"the highest number is:\")\n",
        "print(x)"
      ],
      "execution_count": 2,
      "outputs": [
        {
          "output_type": "stream",
          "text": [
            "enter a number99\n",
            "enter a number66\n",
            "enter a number55\n",
            "99\n",
            "66\n",
            "55\n",
            "the highest number is:\n",
            "99\n"
          ],
          "name": "stdout"
        }
      ]
    },
    {
      "cell_type": "code",
      "metadata": {
        "id": "Yd1aLx7bqmXd",
        "colab": {
          "base_uri": "https://localhost:8080/"
        },
        "outputId": "7b41309c-9c74-416e-8395-492cfe5fee92"
      },
      "source": [
        "\n",
        "def calculation(x,y):\n",
        "  return (x+y),(x-y)\n",
        "n1=int(input(\"enter a number \"))\n",
        "n2=int(input(\"enter a number \"))\n",
        "result=calculation(n1,n2)\n",
        "print(result)"
      ],
      "execution_count": null,
      "outputs": [
        {
          "output_type": "stream",
          "text": [
            "enter a number 5\n",
            "enter a number 9\n",
            "(14, -4)\n"
          ],
          "name": "stdout"
        }
      ]
    },
    {
      "cell_type": "code",
      "metadata": {
        "id": "wNKMHMJI6wEC",
        "colab": {
          "base_uri": "https://localhost:8080/"
        },
        "outputId": "6ce9626a-49bd-43c6-b907-a95b4231484c"
      },
      "source": [
        "lst=[]\n",
        "list1=[]\n",
        "list2=[]\n",
        "n=int(input(\"enter the number of elements:\"))\n",
        "for i in range(0,n):\n",
        "  ele=int(input())\n",
        "  lst.append(ele)\n",
        "print(lst) \n",
        "def sum(lst):\n",
        "  total=0\n",
        "  for val in lst :\n",
        "    total=total+val\n",
        "  return total\n",
        "def multiply(lst) :\n",
        "\tresult = 1\n",
        "\tfor x in lst:\n",
        "\t\tresult = result * x\n",
        "\treturn result\n",
        "for i in range(len(lst)):\n",
        "  if i%2==0:\n",
        "    list1.append(lst[i])\n",
        "  else:\n",
        "    list2.append(lst[i])\n",
        "x=sum(list1)\n",
        "y=multiply(list2)\n",
        "print(x)\n",
        "print(y)\n",
        "\n",
        "\n",
        "\n",
        "\n",
        "\n",
        "\n",
        "\n"
      ],
      "execution_count": null,
      "outputs": [
        {
          "output_type": "stream",
          "text": [
            "enter the number of elements:5\n",
            "1\n",
            "2\n",
            "3\n",
            "4\n",
            "6\n",
            "[1, 2, 3, 4, 6]\n",
            "10\n",
            "8\n"
          ],
          "name": "stdout"
        }
      ]
    },
    {
      "cell_type": "code",
      "metadata": {
        "id": "DGnqsoONeIiK",
        "colab": {
          "base_uri": "https://localhost:8080/"
        },
        "outputId": "8dbf3247-5ff9-4edd-d7eb-7daffbe648bc"
      },
      "source": [
        "words=str(input(\"write the words separated by a space\"))\n",
        "x=words.split()\n",
        "print(x)\n",
        "x.sort()\n",
        "for str in x :\n",
        "  print(str)\n"
      ],
      "execution_count": null,
      "outputs": [
        {
          "output_type": "stream",
          "text": [
            "write the words separated by a space'ahmed', 'hedi', 'mouhamed', 'yassine'\n",
            "[\"'ahmed',\", \"'hedi',\", \"'mouhamed',\", \"'yassine'\"]\n",
            "'ahmed',\n",
            "'hedi',\n",
            "'mouhamed',\n",
            "'yassine'\n"
          ],
          "name": "stdout"
        }
      ]
    }
  ]
}