{
  "nbformat": 4,
  "nbformat_minor": 0,
  "metadata": {
    "colab": {
      "name": "checkpoint6.ipynb",
      "provenance": []
    },
    "kernelspec": {
      "name": "python3",
      "display_name": "Python 3"
    },
    "language_info": {
      "name": "python"
    }
  },
  "cells": [
    {
      "cell_type": "code",
      "metadata": {
        "colab": {
          "base_uri": "https://localhost:8080/"
        },
        "id": "gAyn5PAFWAie",
        "outputId": "50a58eac-ec27-4068-819c-533a388b639f"
      },
      "source": [
        "import numpy as np \n",
        "a=np.array([1,2,3,45,78,91])\n",
        "print(a)\n",
        "list1=a.tolist()\n",
        "print(list1)"
      ],
      "execution_count": 13,
      "outputs": [
        {
          "output_type": "stream",
          "text": [
            "[ 1  2  3 45 78 91]\n",
            "[1, 2, 3, 45, 78, 91]\n"
          ],
          "name": "stdout"
        }
      ]
    },
    {
      "cell_type": "code",
      "metadata": {
        "colab": {
          "base_uri": "https://localhost:8080/"
        },
        "id": "f04Sy9Ybcn0i",
        "outputId": "395bb46b-ee3b-436a-ad02-109409c66fc6"
      },
      "source": [
        "import numpy as np\n",
        "arr=np.array([[23,56,48],[91,58,47]])\n",
        "s=np.trace(arr)\n",
        "print(s)"
      ],
      "execution_count": null,
      "outputs": [
        {
          "output_type": "stream",
          "text": [
            "81\n"
          ],
          "name": "stdout"
        }
      ]
    },
    {
      "cell_type": "code",
      "metadata": {
        "id": "ihY6xdMgdo1v",
        "colab": {
          "base_uri": "https://localhost:8080/"
        },
        "outputId": "b98850bf-869a-422e-f194-531831d1c4ba"
      },
      "source": [
        "import numpy as np \n",
        "a=np.array([[56,88,75,33],[39,48,63,95]]) \n",
        "x=50\n",
        "b=a[a>x]\n",
        "print(b)\n",
        "\n",
        "\n",
        "\n"
      ],
      "execution_count": 20,
      "outputs": [
        {
          "output_type": "stream",
          "text": [
            "[56 88 75 63 95]\n"
          ],
          "name": "stdout"
        }
      ]
    },
    {
      "cell_type": "code",
      "metadata": {
        "colab": {
          "base_uri": "https://localhost:8080/"
        },
        "id": "RX6Nnrn8xUJO",
        "outputId": "2867dc9c-2238-4927-882c-deb51cfc5760"
      },
      "source": [
        "import numpy as np \n",
        "a=np.array([[12,3,55,64,87,36]])\n",
        "b=np.array([[37,99,41,25,68,56]])\n",
        "c=a+b\n",
        "print(c)"
      ],
      "execution_count": 22,
      "outputs": [
        {
          "output_type": "stream",
          "text": [
            "[[ 49 102  96  89 155  92]]\n"
          ],
          "name": "stdout"
        }
      ]
    },
    {
      "cell_type": "code",
      "metadata": {
        "colab": {
          "base_uri": "https://localhost:8080/"
        },
        "id": "mT3qW14IzoQL",
        "outputId": "8868d0bd-ffb7-4082-ee8a-8db886b15802"
      },
      "source": [
        "import numpy as np\n",
        "a=np.array([[19,65,28,24]])\n",
        "print(a)\n",
        "b=a-a.mean(axis=1,keepdims=True)\n",
        "print(b)\n"
      ],
      "execution_count": 29,
      "outputs": [
        {
          "output_type": "stream",
          "text": [
            "[[19 65 28 24]]\n",
            "[[-15.  31.  -6. -10.]]\n"
          ],
          "name": "stdout"
        }
      ]
    }
  ]
}