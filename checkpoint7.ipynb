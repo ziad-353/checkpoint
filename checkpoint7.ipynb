{
  "nbformat": 4,
  "nbformat_minor": 0,
  "metadata": {
    "colab": {
      "name": "checkpoint7.ipynb",
      "provenance": [],
      "collapsed_sections": []
    },
    "kernelspec": {
      "name": "python3",
      "display_name": "Python 3"
    },
    "language_info": {
      "name": "python"
    }
  },
  "cells": [
    {
      "cell_type": "code",
      "metadata": {
        "colab": {
          "base_uri": "https://localhost:8080/"
        },
        "id": "mIYy5wM1IBqw",
        "outputId": "8f575b4c-fcb0-4fdf-b2b3-2c07bbfcd237"
      },
      "source": [
        "import pandas as pd\n",
        "import numpy as np\n",
        "exam_data = {'name': ['Anastasia', 'Dima', 'Katherine', 'James', 'Emily', 'Michael', 'Matthew', 'Laura', 'Kevin', 'Jonas'],\n",
        "'score': [12.5, 9, 16.5, np.nan, 9, 20, 14.5, np.nan, 8, 19],\n",
        "'attempts': [1, 3, 2, 3, 2, 3, 1, 1, 2, 1],\n",
        "'qualify': ['yes', 'no', 'yes', 'no', 'no', 'yes', 'yes', 'no', 'no', 'yes']}\n",
        "labels = ['a', 'b', 'c', 'd', 'e', 'f', 'g', 'h', 'i', 'j']\n",
        "new_data=pd.DataFrame(exam_data,index=[labels])\n",
        "print(new_data.head(3))\n",
        "r=new_data.drop([\"d\",\"h\"])\n",
        "print(r)\n",
        "n=new_data.iloc[:, 2:4]\n",
        "print(n)\n",
        "l={'name' : [\"Suesh\"], 'score':[ 15.5], 'attempts': [1], 'qualify':[\"yes\"]}\n",
        "labels2=['k']\n",
        "new_data_prime=pd.DataFrame(l,index=[labels2])\n",
        "new_data_plus=new_data.append(new_data_prime,ignore_index=False)\n",
        "print(new_data_plus)\n",
        "m=new_data.drop(columns=['attempts'])\n",
        "print(m)\n",
        "p={'success':[]}\n",
        "new_data_pro=pd.DataFrame(p)\n",
        "new_data_promax=new_data.append(new_data_pro,ignore_index=False)\n",
        "for value in exam_data['score']:\n",
        "  if value>10 :\n",
        "    p['success'].append(1)\n",
        "  else:\n",
        "    p['success'].append(0)\n",
        "new_data_promax.success=p['success']\n",
        "print(new_data_promax)\n",
        "new_data_promax.to_csv('my_data.csv')\n",
        "my_data=pd.read_csv('my_data.csv')\n",
        "\n",
        "\n",
        "\n"
      ],
      "execution_count": 32,
      "outputs": [
        {
          "output_type": "stream",
          "text": [
            "        name  score  attempts qualify\n",
            "a  Anastasia   12.5         1     yes\n",
            "b       Dima    9.0         3      no\n",
            "c  Katherine   16.5         2     yes\n",
            "        name  score  attempts qualify\n",
            "a  Anastasia   12.5         1     yes\n",
            "b       Dima    9.0         3      no\n",
            "c  Katherine   16.5         2     yes\n",
            "e      Emily    9.0         2      no\n",
            "f    Michael   20.0         3     yes\n",
            "g    Matthew   14.5         1     yes\n",
            "i      Kevin    8.0         2      no\n",
            "j      Jonas   19.0         1     yes\n",
            "   attempts qualify\n",
            "a         1     yes\n",
            "b         3      no\n",
            "c         2     yes\n",
            "d         3      no\n",
            "e         2      no\n",
            "f         3     yes\n",
            "g         1     yes\n",
            "h         1      no\n",
            "i         2      no\n",
            "j         1     yes\n",
            "        name  score  attempts qualify\n",
            "a  Anastasia   12.5         1     yes\n",
            "b       Dima    9.0         3      no\n",
            "c  Katherine   16.5         2     yes\n",
            "d      James    NaN         3      no\n",
            "e      Emily    9.0         2      no\n",
            "f    Michael   20.0         3     yes\n",
            "g    Matthew   14.5         1     yes\n",
            "h      Laura    NaN         1      no\n",
            "i      Kevin    8.0         2      no\n",
            "j      Jonas   19.0         1     yes\n",
            "k      Suesh   15.5         1     yes\n",
            "        name  score qualify\n",
            "a  Anastasia   12.5     yes\n",
            "b       Dima    9.0      no\n",
            "c  Katherine   16.5     yes\n",
            "d      James    NaN      no\n",
            "e      Emily    9.0      no\n",
            "f    Michael   20.0     yes\n",
            "g    Matthew   14.5     yes\n",
            "h      Laura    NaN      no\n",
            "i      Kevin    8.0      no\n",
            "j      Jonas   19.0     yes\n",
            "        name  score  attempts qualify  success\n",
            "a  Anastasia   12.5       1.0     yes        1\n",
            "b       Dima    9.0       3.0      no        0\n",
            "c  Katherine   16.5       2.0     yes        1\n",
            "d      James    NaN       3.0      no        0\n",
            "e      Emily    9.0       2.0      no        0\n",
            "f    Michael   20.0       3.0     yes        1\n",
            "g    Matthew   14.5       1.0     yes        1\n",
            "h      Laura    NaN       1.0      no        0\n",
            "i      Kevin    8.0       2.0      no        0\n",
            "j      Jonas   19.0       1.0     yes        1\n"
          ],
          "name": "stdout"
        }
      ]
    }
  ]
}